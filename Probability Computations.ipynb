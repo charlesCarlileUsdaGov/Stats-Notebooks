{
  "nbformat": 4,
  "nbformat_minor": 0,
  "metadata": {
    "colab": {
      "name": "Untitled12.ipynb",
      "provenance": [],
      "authorship_tag": "ABX9TyPqfY/2Xq3kL31B2Thy2bxI",
      "include_colab_link": true
    },
    "kernelspec": {
      "name": "python3",
      "display_name": "Python 3"
    },
    "language_info": {
      "name": "python"
    }
  },
  "cells": [
    {
      "cell_type": "markdown",
      "metadata": {
        "id": "view-in-github",
        "colab_type": "text"
      },
      "source": [
        "<a href=\"https://colab.research.google.com/github/charlesCarlileUsdaGov/Stats-Notebooks/blob/main/Probability%20Computations\" target=\"_parent\"><img src=\"https://colab.research.google.com/assets/colab-badge.svg\" alt=\"Open In Colab\"/></a>"
      ]
    },
    {
      "cell_type": "markdown",
      "source": [
        "Examples of computing probabilities"
      ],
      "metadata": {
        "id": "aRLki5zefpwr"
      }
    },
    {
      "cell_type": "code",
      "execution_count": 3,
      "metadata": {
        "id": "DOHVFIJsPxFf"
      },
      "outputs": [],
      "source": [
        "import scipy.stats as st\n",
        "import numpy as np\n",
        "import matplotlib.pyplot as plt"
      ]
    },
    {
      "cell_type": "markdown",
      "source": [
        "# Continuous Uniform "
      ],
      "metadata": {
        "id": "3hNwmBiKfyI9"
      }
    },
    {
      "cell_type": "markdown",
      "source": [
        "Plot the PDF of a continuous random variable on the interval (0,100)"
      ],
      "metadata": {
        "id": "3nxP8EiVcUER"
      }
    },
    {
      "cell_type": "code",
      "source": [
        "x = np.arange(0,100,0.1) #creates a vector of values from start = 0 to end = 100 (non-inclusive) using the stepsize = 0.1\n",
        "#SciPy reuses the terms \"loc\" and \"scale\" to mean many different things\n",
        "#the actual meaning of the parameters depend on which random variable we are looking at\n",
        "#In this case loc corresponds to the left end point and loc + scale = the right end point\n",
        "#So uniform random variable on the interval (1,2) would be loc = 1 and scale = 1 (because 2 = 1 + 1)\n",
        "#In this case, loc = 0 and scale = 100 (because 100 = 100 + 0)\n",
        "X = st.uniform(loc = 0,scale = 100) #creates a uniform random variable on (0,100)\n",
        "y = X.pdf(x) #represents the pdf values\n",
        "plt.ylim((0,0.02)) #Set the limits of the y-axis \n",
        "plt.plot(x,y) #plot the pdf(x) for each x"
      ],
      "metadata": {
        "colab": {
          "base_uri": "https://localhost:8080/",
          "height": 286
        },
        "id": "bkI0yubVP7kH",
        "outputId": "ab54b461-5668-4391-b5ea-353fdccb4daa"
      },
      "execution_count": 9,
      "outputs": [
        {
          "output_type": "execute_result",
          "data": {
            "text/plain": [
              "[<matplotlib.lines.Line2D at 0x7f4b25a61bd0>]"
            ]
          },
          "metadata": {},
          "execution_count": 9
        },
        {
          "output_type": "display_data",
          "data": {
            "text/plain": [
              "<Figure size 432x288 with 1 Axes>"
            ],
            "image/png": "[encoded data removed]"
          },
          "metadata": {
            "needs_background": "light"
          }
        }
      ]
    },
    {
      "cell_type": "markdown",
      "source": [
        "Calculate the probability P(20 $\\le$ X $\\le$ 37)"
      ],
      "metadata": {
        "id": "uWsaUBW_dFgI"
      }
    },
    {
      "cell_type": "code",
      "source": [
        "prob = X.cdf(37) - X.cdf(20) #CDF = cumulative distribution function. By definition cdf(x) = P(X<=x).\n",
        "print(f\"P(20 <= X <= 37) = {prob}\")\n",
        "print(f\"Using formula: {0.01*(37-20)}\") #Area under pdf between 37 and 20"
      ],
      "metadata": {
        "colab": {
          "base_uri": "https://localhost:8080/"
        },
        "id": "YvpD9rZbdcj9",
        "outputId": "6471029c-efa2-41e7-82fa-dd6f8ef95de5"
      },
      "execution_count": 14,
      "outputs": [
        {
          "output_type": "stream",
          "name": "stdout",
          "text": [
            "P(20 <= X <= 37) = 0.16999999999999998\n",
            "Using formula: 0.17\n"
          ]
        }
      ]
    },
    {
      "cell_type": "markdown",
      "source": [
        "Trick question: Calculate the probability P(33 $\\le$ X)"
      ],
      "metadata": {
        "id": "mpJee2P-fBoe"
      }
    },
    {
      "cell_type": "code",
      "source": [
        "prob = 1 - X.cdf(33)\n",
        "print( f\"P(33 <= X) = {prob}\" )\n",
        "print( f\"Using formula: {0.01*(100 - 33)}\" )"
      ],
      "metadata": {
        "colab": {
          "base_uri": "https://localhost:8080/"
        },
        "id": "ww0Eof-EfK3r",
        "outputId": "24321b27-10f2-4e2e-d9d9-8d47ed1b3251"
      },
      "execution_count": 15,
      "outputs": [
        {
          "output_type": "stream",
          "name": "stdout",
          "text": [
            "P(33 <= X) = 0.6699999999999999\n",
            "Using formula: 0.67\n"
          ]
        }
      ]
    },
    {
      "cell_type": "markdown",
      "source": [
        "# Normal Distribution"
      ],
      "metadata": {
        "id": "c1y0qLoof7Zj"
      }
    },
    {
      "cell_type": "markdown",
      "source": [
        "Plot the PDF of a normal random variable with mean 5 and standard deviation 4"
      ],
      "metadata": {
        "id": "IOq3ItqlgCzf"
      }
    },
    {
      "cell_type": "code",
      "source": [
        "#for a normal random variable, loc corresponds to mean and scale corresponds to standard deviation \n",
        "x = np.arange(-11,21,0.1) #creates a vector of values from start = -11 to end = 21 (non-inclusive) using the stepsize = 0.1\n",
        "#normal random variable with mean 5 and standard deviation 4\n",
        "X = st.norm(loc = 5,scale = 4)\n",
        "y = X.pdf(x)\n",
        "#Purposely did not change the y-axis limits because the standard range was acceptable\n",
        "plt.plot(x,y) #plot the pdf(x) for each x"
      ],
      "metadata": {
        "colab": {
          "base_uri": "https://localhost:8080/",
          "height": 282
        },
        "id": "PZ6dbFXkgNPP",
        "outputId": "6935c93b-abda-4238-a683-a69e1d9b3776"
      },
      "execution_count": 17,
      "outputs": [
        {
          "output_type": "execute_result",
          "data": {
            "text/plain": [
              "[<matplotlib.lines.Line2D at 0x7f4b25290dd0>]"
            ]
          },
          "metadata": {},
          "execution_count": 17
        },
        {
          "output_type": "display_data",
          "data": {
            "text/plain": [
              "<Figure size 432x288 with 1 Axes>"
            ],
            "image/png": "[encoded data removed]"
          },
          "metadata": {
            "needs_background": "light"
          }
        }
      ]
    },
    {
      "cell_type": "markdown",
      "source": [
        "Calculate P(1 $\\le$ X $\\le$ 9)"
      ],
      "metadata": {
        "id": "IrCvRDfRiIWa"
      }
    },
    {
      "cell_type": "code",
      "source": [
        "#first lets look at the region we are trying to find the area of (aka caluclate probability)\n",
        "#both of the following statements are needed to construct the graph that shades the appropriate area\n",
        "plt.plot(x,y) \n",
        "plt.fill_between(x = x,y1 = y,where = (1 < x) & (x < 9))"
      ],
      "metadata": {
        "colab": {
          "base_uri": "https://localhost:8080/",
          "height": 282
        },
        "id": "fNAjMn3XiYXa",
        "outputId": "45b33abf-4782-4b1c-87e9-6030804d8001"
      },
      "execution_count": 19,
      "outputs": [
        {
          "output_type": "execute_result",
          "data": {
            "text/plain": [
              "<matplotlib.collections.PolyCollection at 0x7f4b2526f990>"
            ]
          },
          "metadata": {},
          "execution_count": 19
        },
        {
          "output_type": "display_data",
          "data": {
            "text/plain": [
              "<Figure size 432x288 with 1 Axes>"
            ],
            "image/png": "[encoded data removed]"
          },
          "metadata": {
            "needs_background": "light"
          }
        }
      ]
    },
    {
      "cell_type": "code",
      "source": [
        "prob = X.cdf(9) - X.cdf(1)\n",
        "print(f\"P(1 <= X <= 9) = {prob}\")\n",
        "print(f\"No formula for this one :(\")"
      ],
      "metadata": {
        "colab": {
          "base_uri": "https://localhost:8080/"
        },
        "id": "81IaQ1BKjTRj",
        "outputId": "7a4f776d-0ae3-419c-9b31-d3e5fc86a34a"
      },
      "execution_count": 21,
      "outputs": [
        {
          "output_type": "stream",
          "name": "stdout",
          "text": [
            "P(1 <= X <= 9) = 0.6826894921370859\n",
            "No formula for this one :(\n"
          ]
        }
      ]
    },
    {
      "cell_type": "markdown",
      "source": [
        "Calculate P(-3 $\\le$ X $\\le$ 13)"
      ],
      "metadata": {
        "id": "VcA3RxrkjqLn"
      }
    },
    {
      "cell_type": "code",
      "source": [
        "plt.plot(x,y) \n",
        "plt.fill_between(x = x,y1 = y,where = (-3 < x) & (x < 13))"
      ],
      "metadata": {
        "colab": {
          "base_uri": "https://localhost:8080/",
          "height": 282
        },
        "id": "wt6LQHD3j30u",
        "outputId": "71740507-8fe8-4c47-a413-1e0dd861ecc6"
      },
      "execution_count": 22,
      "outputs": [
        {
          "output_type": "stream",
          "name": "stdout",
          "text": [
            "P(-3 <= X <= 13) = -0.9544997361036416\n"
          ]
        },
        {
          "output_type": "display_data",
          "data": {
            "text/plain": [
              "<Figure size 432x288 with 1 Axes>"
            ],
            "image/png": "[encoded data removed]"
          },
          "metadata": {
            "needs_background": "light"
          }
        }
      ]
    },
    {
      "cell_type": "code",
      "source": [
        "prob = X.cdf(-3) - X.cdf(13)\n",
        "print(f\"P(-3 <= X <= 13) = {prob}\")"
      ],
      "metadata": {
        "colab": {
          "base_uri": "https://localhost:8080/"
        },
        "id": "9RAqRE4SkI0K",
        "outputId": "9b46746c-bdaf-4122-b9b9-ca5495b36919"
      },
      "execution_count": 23,
      "outputs": [
        {
          "output_type": "stream",
          "name": "stdout",
          "text": [
            "P(-3 <= X <= 13) = -0.9544997361036416\n"
          ]
        }
      ]
    },
    {
      "cell_type": "markdown",
      "source": [
        "Calculate P(-7 $\\le$ X $\\le$ 17)"
      ],
      "metadata": {
        "id": "nKKQSf7TkMZF"
      }
    },
    {
      "cell_type": "code",
      "source": [
        "plt.plot(x,y) \n",
        "plt.fill_between(x = x,y1 = y,where = (-7 < x) & (x < 17))"
      ],
      "metadata": {
        "colab": {
          "base_uri": "https://localhost:8080/",
          "height": 282
        },
        "id": "sk_OTZIykTgH",
        "outputId": "0f59737b-47cc-4b80-b949-eb997d96f1eb"
      },
      "execution_count": 24,
      "outputs": [
        {
          "output_type": "execute_result",
          "data": {
            "text/plain": [
              "<matplotlib.collections.PolyCollection at 0x7f4b25105810>"
            ]
          },
          "metadata": {},
          "execution_count": 24
        },
        {
          "output_type": "display_data",
          "data": {
            "text/plain": [
              "<Figure size 432x288 with 1 Axes>"
            ],
            "image/png": "[encoded data removed]"
          },
          "metadata": {
            "needs_background": "light"
          }
        }
      ]
    },
    {
      "cell_type": "code",
      "source": [
        "prob = X.cdf(-7) - X.cdf(17)\n",
        "print(f\"P(-7 <= X <= 17) = {prob}\")"
      ],
      "metadata": {
        "colab": {
          "base_uri": "https://localhost:8080/"
        },
        "id": "oMCSzBImkeBp",
        "outputId": "589bf99c-ccda-4688-8955-0271799d5230"
      },
      "execution_count": 25,
      "outputs": [
        {
          "output_type": "stream",
          "name": "stdout",
          "text": [
            "P(-7 <= X <= 17) = -0.9973002039367398\n"
          ]
        }
      ]
    },
    {
      "cell_type": "markdown",
      "source": [
        "Calcualte P(X $\\le$ 5) and P(10 $\\le$ X)"
      ],
      "metadata": {
        "id": "ttwBCjjdkm8y"
      }
    },
    {
      "cell_type": "code",
      "source": [
        "prob1 = X.cdf(5)\n",
        "prob2 = 1 - X.cdf(10)\n",
        "print(f\"P(X <= 5) = {prob1}\")\n",
        "print(f\"P(10 <= X) = {prob2}\")"
      ],
      "metadata": {
        "colab": {
          "base_uri": "https://localhost:8080/"
        },
        "id": "XRfuX9Bpk6Rs",
        "outputId": "4d3e47cb-7586-48d8-8768-a66d2c979091"
      },
      "execution_count": 27,
      "outputs": [
        {
          "output_type": "stream",
          "name": "stdout",
          "text": [
            "P(X <= 5) = 0.5\n",
            "P(10 <= X) = 0.10564977366685535\n"
          ]
        }
      ]
    },
    {
      "cell_type": "markdown",
      "source": [
        "# Gamma Distribution"
      ],
      "metadata": {
        "id": "1xa10331mRUQ"
      }
    },
    {
      "cell_type": "markdown",
      "source": [
        "Plot the PDF of a gamma $\\left(\\Gamma\\right)$ with $\\alpha$ = 2 and $\\beta$ = 2"
      ],
      "metadata": {
        "id": "xFRPdr1VmY3p"
      }
    },
    {
      "cell_type": "code",
      "source": [
        "x = np.arange(0,10,0.01)\n",
        "#For a gamma random variable, a corresponds to alpha and scale corresponds to 1/beta\n",
        "#This code generates a gamma random variable with alpha = 2 and beta = 2 (because 2 = 1/(1/2))\n",
        "X = st.gamma(a = 2,scale = 1/2)\n",
        "y = X.pdf(x)\n",
        "plt.plot(x,y)"
      ],
      "metadata": {
        "colab": {
          "base_uri": "https://localhost:8080/",
          "height": 282
        },
        "id": "L6X7QoxdnH8g",
        "outputId": "dfe667be-94c3-4eba-b91c-c5138ebb5a23"
      },
      "execution_count": 32,
      "outputs": [
        {
          "output_type": "execute_result",
          "data": {
            "text/plain": [
              "[<matplotlib.lines.Line2D at 0x7f4b24efde10>]"
            ]
          },
          "metadata": {},
          "execution_count": 32
        },
        {
          "output_type": "display_data",
          "data": {
            "text/plain": [
              "<Figure size 432x288 with 1 Axes>"
            ],
            "image/png": "[encoded data removed]"
          },
          "metadata": {
            "needs_background": "light"
          }
        }
      ]
    },
    {
      "cell_type": "markdown",
      "source": [
        "Calculate $P\\left(X \\le 4\\right)$"
      ],
      "metadata": {
        "id": "yjLDa6jNo3EK"
      }
    },
    {
      "cell_type": "code",
      "source": [
        "plt.plot(x,y) \n",
        "plt.fill_between(x = x,y1 = y,where = (x < 4))"
      ],
      "metadata": {
        "colab": {
          "base_uri": "https://localhost:8080/",
          "height": 282
        },
        "id": "TtIStxZApC4Y",
        "outputId": "a7d64502-a93e-469d-da37-36b60f183277"
      },
      "execution_count": 33,
      "outputs": [
        {
          "output_type": "execute_result",
          "data": {
            "text/plain": [
              "<matplotlib.collections.PolyCollection at 0x7f4b2507c5d0>"
            ]
          },
          "metadata": {},
          "execution_count": 33
        },
        {
          "output_type": "display_data",
          "data": {
            "text/plain": [
              "<Figure size 432x288 with 1 Axes>"
            ],
            "image/png": "[encoded data removed]"
          },
          "metadata": {
            "needs_background": "light"
          }
        }
      ]
    },
    {
      "cell_type": "code",
      "source": [
        "prob = X.cdf(4)\n",
        "print(f\"P( X <= 4 ) = {prob}\")"
      ],
      "metadata": {
        "colab": {
          "base_uri": "https://localhost:8080/"
        },
        "id": "XO95xFXqpRnN",
        "outputId": "670752ee-ad0b-43e4-ccdc-da628b5aa379"
      },
      "execution_count": 34,
      "outputs": [
        {
          "output_type": "stream",
          "name": "stdout",
          "text": [
            "P( X <= 4 ) = 0.9969808363488774\n"
          ]
        }
      ]
    },
    {
      "cell_type": "markdown",
      "source": [
        "Calculate $P\\left(2 \\le X\\right)$"
      ],
      "metadata": {
        "id": "BewPb4q7ph9Z"
      }
    },
    {
      "cell_type": "code",
      "source": [
        "plt.plot(x,y) \n",
        "plt.fill_between(x = x,y1 = y,where = (x > 2))"
      ],
      "metadata": {
        "colab": {
          "base_uri": "https://localhost:8080/",
          "height": 282
        },
        "id": "ilAdFUALp2OH",
        "outputId": "1742e558-27be-405d-8d7e-aabb173250fa"
      },
      "execution_count": 36,
      "outputs": [
        {
          "output_type": "execute_result",
          "data": {
            "text/plain": [
              "<matplotlib.collections.PolyCollection at 0x7f4b24e78650>"
            ]
          },
          "metadata": {},
          "execution_count": 36
        },
        {
          "output_type": "display_data",
          "data": {
            "text/plain": [
              "<Figure size 432x288 with 1 Axes>"
            ],
            "image/png": "[encoded data removed]"
          },
          "metadata": {
            "needs_background": "light"
          }
        }
      ]
    },
    {
      "cell_type": "code",
      "source": [
        "print(f\"P(2 <= X) = {1 - X.cdf(2)}\")"
      ],
      "metadata": {
        "colab": {
          "base_uri": "https://localhost:8080/"
        },
        "id": "rcm9WRk3ps5U",
        "outputId": "44f1463c-9de7-4d5d-9327-8845c9eeefbc"
      },
      "execution_count": 35,
      "outputs": [
        {
          "output_type": "stream",
          "name": "stdout",
          "text": [
            "P(2 <= X) = 0.09157819444367088\n"
          ]
        }
      ]
    }
  ]
}
